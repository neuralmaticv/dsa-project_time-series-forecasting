{
 "cells": [
  {
   "cell_type": "markdown",
   "source": [
    "# Forecasting COVID-19 data with Facebook Prophet and Neural Prophet"
   ],
   "metadata": {
    "collapsed": false,
    "pycharm": {
     "name": "#%% md\n"
    }
   }
  },
  {
   "cell_type": "code",
   "execution_count": null,
   "outputs": [],
   "source": [
    "import warnings\n",
    "warnings.filterwarnings('ignore')\n",
    "import math\n",
    "import numpy as np\n",
    "import pandas as pd\n",
    "\n",
    "import matplotlib.pyplot as plt\n",
    "from sklearn.metrics import mean_absolute_error, mean_squared_error, mean_absolute_percentage_error\n",
    "from sysidentpy.metrics import root_relative_squared_error\n",
    "\n",
    "from prophet import Prophet\n",
    "from neuralprophet import NeuralProphet"
   ],
   "metadata": {
    "collapsed": false,
    "pycharm": {
     "name": "#%%\n"
    }
   }
  },
  {
   "cell_type": "markdown",
   "source": [
    "### Forecasting for different types of cases for selected countries"
   ],
   "metadata": {
    "collapsed": false,
    "pycharm": {
     "name": "#%% md\n"
    }
   }
  },
  {
   "cell_type": "code",
   "execution_count": null,
   "outputs": [],
   "source": [
    "countries = {\"Germany\": \"de\", \"Spain\": \"es\", \"France\": \"fr\", \"India\": \"in\", \"Italy\": \"it\", \"Russia\": \"ru\", \"Turkey\": \"tr\", \"United States\": \"us\"}\n",
    "country_list = list(countries.keys())\n",
    "country_iso_code_list = list(countries.values())\n",
    "data_type_list = [\"confirmed_cases\", \"recovered_cases\", \"death_cases\", \"active_cases\"]"
   ],
   "metadata": {
    "collapsed": false,
    "pycharm": {
     "name": "#%%\n"
    }
   }
  },
  {
   "cell_type": "code",
   "execution_count": 8,
   "metadata": {
    "collapsed": true,
    "pycharm": {
     "name": "#%%\n"
    }
   },
   "outputs": [],
   "source": [
    "def forecasting(data_format, country, country_code, data_type, start_date, end_date, split_date, results_table):\n",
    "    df = pd.read_csv(\"./data/\" + data_format + \"/\" + country_code + \"_\" + data_type + \".csv\")\n",
    "    df[\"ds\"] = pd.to_datetime(df[\"ds\"])\n",
    "    period = (df['ds'] >= start_date) & (df['ds'] <= end_date)\n",
    "    df = df.loc[period]\n",
    "\n",
    "    # create train and test data samples\n",
    "    train = df.loc[df[\"ds\"] < split_date]\n",
    "    test = df.loc[df[\"ds\"] >= split_date]\n",
    "\n",
    "    # instantiate a new Prophet model and add built-in holidays\n",
    "    model = Prophet(n_changepoints=10, changepoint_prior_scale=10, yearly_seasonality=False, weekly_seasonality=True,\n",
    "                    daily_seasonality=False)\n",
    "    if (country == \"United States\"):\n",
    "        model.add_country_holidays(country_name=\"US\")\n",
    "    else:\n",
    "        model.add_country_holidays(country_name=country)\n",
    "\n",
    "    # fit the model\n",
    "    model.fit(train)\n",
    "\n",
    "    # predict and plot\n",
    "    future = model.make_future_dataframe(periods=len(test))\n",
    "    forecast = model.predict(future)\n",
    "    fig = model.plot(forecast, figsize=(25, 10))\n",
    "    fig.show()\n",
    "    fig.savefig(\"./data/figures/\" + data_format + \"/fbp_\" + country.lower() + \"_\" + data_type + \"_forecast.png\")\n",
    "    model.plot_components(forecast)\n",
    "\n",
    "    plt.figure(figsize=(25, 10))\n",
    "    plt.plot(df.groupby(\"ds\")[\"y\"].sum(), label=\"Actual\")\n",
    "    plt.plot(forecast.groupby(\"ds\")[\"yhat\"].sum(), label=\"Predicted\")\n",
    "    plt.legend()\n",
    "    plt.savefig(\"./data/figures/\" + data_format + \"/fbp_\" + country.lower() + \"_\" + data_type + \"_actual_vs_predicted.png\")\n",
    "    plt.show()\n",
    "\n",
    "    # model evaluation - measure performance of model\n",
    "    MAE = mean_absolute_error(y_true=test[\"y\"], y_pred=forecast[\"yhat\"].tail(len(test)))\n",
    "    RMSE = math.sqrt(mean_squared_error(y_true=test[\"y\"], y_pred=forecast[\"yhat\"].tail(len(test))))\n",
    "    RRSE = root_relative_squared_error(np.array(test[\"y\"]), np.array(forecast[\"yhat\"].tail(len(test))))\n",
    "    MAPE = mean_absolute_percentage_error(y_true=test[\"y\"], y_pred=forecast[\"yhat\"].tail(len(test))) * 100\n",
    "\n",
    "    # create results table\n",
    "    res = pd.DataFrame({\"Country\": country, \"Model\": \"Facebook Prophet\", \"MAE\": round(MAE, 3), \"RMSE\": round(RMSE, 3),\n",
    "                        \"RRSE\": round(RRSE, 3), \"MAPE\": round(MAPE, 3)}, index=[len(results_table)])\n",
    "    results_table = pd.concat([results_table, res])\n",
    "\n",
    "    # instantiate a new Neural Prophet model and add built-in holidays\n",
    "    model = NeuralProphet(yearly_seasonality=False, weekly_seasonality=True, daily_seasonality=False)\n",
    "    if (country == \"United States\"):\n",
    "        model.add_country_holidays(country_name=\"US\")\n",
    "    else:\n",
    "        model.add_country_holidays(country_name=country)\n",
    "\n",
    "    # fit the model\n",
    "    model.fit(train)\n",
    "\n",
    "    # predict and plot\n",
    "    future = model.make_future_dataframe(df=train, periods=len(test), n_historic_predictions=True)\n",
    "    forecast = model.predict(future)\n",
    "    fig = model.plot(forecast, figsize=(25, 10))\n",
    "    fig.show()\n",
    "    fig.savefig(\"./data/figures/\" + data_format + \"/nnp_\" + country.lower() + \"_\" + data_type + \"_forecast.png\")\n",
    "    model.plot_components(forecast)\n",
    "\n",
    "    plt.figure(figsize=(25, 10))\n",
    "    plt.plot(df.groupby(\"ds\")[\"y\"].sum(), label=\"Actual\")\n",
    "    plt.plot(forecast.groupby(\"ds\")[\"yhat1\"].sum(), label=\"Predicted\")\n",
    "    plt.legend()\n",
    "    plt.savefig(\"./data/figures/\" + data_format + \"/nnp\" + country.lower() + \"_\" + data_type + \"_actual_vs_predicted.png\")\n",
    "    plt.show()\n",
    "\n",
    "    # model evaluation - measure performance of model\n",
    "    MAE = mean_absolute_error(y_true=test[\"y\"], y_pred=forecast[\"yhat1\"].tail(len(test)))\n",
    "    RMSE = math.sqrt(mean_squared_error(y_true=test[\"y\"], y_pred=forecast[\"yhat1\"].tail(len(test))))\n",
    "    RRSE = root_relative_squared_error(np.array(test[\"y\"]), np.array(forecast[\"yhat1\"].tail(len(test))))\n",
    "    MAPE = mean_absolute_percentage_error(y_true=test[\"y\"], y_pred=forecast[\"yhat1\"].tail(len(test))) * 100\n",
    "\n",
    "    # create results table\n",
    "    res = pd.DataFrame({\"Country\": country, \"Model\": \"Neural Prophet\", \"MAE\": round(MAE, 3), \"RMSE\": round(RMSE, 3),\n",
    "                        \"RRSE\": round(RRSE, 3), \"MAPE\": round(MAPE, 3)}, index=[len(results_table)])\n",
    "    results_table = pd.concat([results_table, res])\n",
    "\n",
    "    return results_table"
   ]
  },
  {
   "cell_type": "code",
   "execution_count": 9,
   "outputs": [],
   "source": [
    "def run_forecast(data_format, dt_id):\n",
    "    forecasting_results = pd.DataFrame(columns=[\"Country\", \"Model\", \"MAE\", \"RMSE\", \"RRSE\", \"MAPE\"])\n",
    "\n",
    "    # US\n",
    "    us_start_date = \"2020-01-27\"\n",
    "    forecasting_results = forecasting(data_format, country_list[7], country_iso_code_list[7], data_type_list[dt_id], us_start_date,\n",
    "                                      \"2020-05-20\", \"2020-05-01\", forecasting_results)\n",
    "\n",
    "    # ES\n",
    "    es_start_date = \"2020-02-06\"\n",
    "    forecasting_results = forecasting(data_format, country_list[1], country_iso_code_list[1], data_type_list[dt_id], es_start_date,\n",
    "                                      \"2020-05-20\", \"2020-05-01\", forecasting_results)\n",
    "\n",
    "    # IT\n",
    "    it_start_date = \"2020-02-05\"\n",
    "    forecasting_results = forecasting(data_format, country_list[4], country_iso_code_list[4], data_type_list[dt_id], it_start_date,\n",
    "                                      \"2020-05-20\", \"2020-05-01\", forecasting_results)\n",
    "\n",
    "    # FR\n",
    "    fr_start_date = \"2020-01-29\"\n",
    "    forecasting_results = forecasting(data_format, country_list[2], country_iso_code_list[2], data_type_list[dt_id], fr_start_date,\n",
    "                                      \"2020-05-20\", \"2020-05-01\", forecasting_results)\n",
    "\n",
    "    # DE\n",
    "    de_start_date = \"2020-02-01\"\n",
    "    forecasting_results = forecasting(data_format, country_list[0], country_iso_code_list[0], data_type_list[dt_id], de_start_date,\n",
    "                                      \"2020-05-20\", \"2020-05-01\", forecasting_results)\n",
    "\n",
    "    # RU\n",
    "    ru_start_date = \"2020-02-05\"\n",
    "    forecasting_results = forecasting(data_format, country_list[5], country_iso_code_list[5], data_type_list[0], ru_start_date,\n",
    "                                      \"2020-05-20\", \"2020-05-01\", forecasting_results)\n",
    "\n",
    "    # TR\n",
    "    tr_start_date = \"2020-03-16\"\n",
    "    forecasting_results = forecasting(data_format, country_list[6], country_iso_code_list[6], data_type_list[dt_id], tr_start_date,\n",
    "                                      \"2020-05-20\", \"2020-05-01\", forecasting_results)\n",
    "\n",
    "    # IN\n",
    "    in_start_date = \"2020-02-04\"\n",
    "    forecasting_results = forecasting(data_format, country_list[3], country_iso_code_list[3], data_type_list[dt_id], in_start_date,\n",
    "                                      \"2020-05-20\", \"2020-05-01\", forecasting_results)\n",
    "\n",
    "    forecasting_results.to_csv(\n",
    "        \"./data/results/performance_forecasting_results_\" +\n",
    "        data_type_list[dt_id] + \"_\" + data_format + \".csv\",\n",
    "        index=False)"
   ],
   "metadata": {
    "collapsed": false,
    "pycharm": {
     "name": "#%%\n"
    }
   }
  },
  {
   "cell_type": "markdown",
   "source": [
    "## Forecasting daily data for confirmed cases"
   ],
   "metadata": {
    "collapsed": false,
    "pycharm": {
     "name": "#%% md\n"
    }
   }
  },
  {
   "cell_type": "code",
   "execution_count": null,
   "outputs": [],
   "source": [
    "run_forecast(\"daily_data\", 0)"
   ],
   "metadata": {
    "collapsed": false,
    "pycharm": {
     "name": "#%%\n"
    }
   }
  },
  {
   "cell_type": "markdown",
   "source": [
    "## Forecasting daily data for death cases"
   ],
   "metadata": {
    "collapsed": false,
    "pycharm": {
     "name": "#%% md\n"
    }
   }
  },
  {
   "cell_type": "code",
   "execution_count": null,
   "outputs": [],
   "source": [
    "run_forecast(\"daily_data\", 2)"
   ],
   "metadata": {
    "collapsed": false,
    "pycharm": {
     "name": "#%%\n"
    }
   }
  },
  {
   "cell_type": "markdown",
   "source": [
    "## Forecasting cumulative data for confirmed cases"
   ],
   "metadata": {
    "collapsed": false,
    "pycharm": {
     "name": "#%% md\n"
    }
   }
  },
  {
   "cell_type": "code",
   "execution_count": null,
   "outputs": [],
   "source": [
    "run_forecast(\"cumulative_data\", 0)"
   ],
   "metadata": {
    "collapsed": false,
    "pycharm": {
     "name": "#%%\n"
    }
   }
  },
  {
   "cell_type": "markdown",
   "source": [
    "## Forecasting cumulative data for recovered cases"
   ],
   "metadata": {
    "collapsed": false,
    "pycharm": {
     "name": "#%% md\n"
    }
   }
  },
  {
   "cell_type": "code",
   "execution_count": null,
   "outputs": [],
   "source": [
    "run_forecast(\"cumulative_data\", 1)"
   ],
   "metadata": {
    "collapsed": false,
    "pycharm": {
     "name": "#%%\n"
    }
   }
  },
  {
   "cell_type": "markdown",
   "source": [
    "## Forecasting cumulative data for death cases"
   ],
   "metadata": {
    "collapsed": false,
    "pycharm": {
     "name": "#%% md\n"
    }
   }
  },
  {
   "cell_type": "code",
   "execution_count": null,
   "outputs": [],
   "source": [
    "run_forecast(\"cumulative_data\", 2)"
   ],
   "metadata": {
    "collapsed": false,
    "pycharm": {
     "name": "#%%\n"
    }
   }
  },
  {
   "cell_type": "markdown",
   "source": [
    "## Forecasting cumulative data for active cases\n"
   ],
   "metadata": {
    "collapsed": false,
    "pycharm": {
     "name": "#%% md\n"
    }
   }
  },
  {
   "cell_type": "code",
   "execution_count": null,
   "outputs": [],
   "source": [
    "run_forecast(\"cumulative_data\", 3)"
   ],
   "metadata": {
    "collapsed": false,
    "pycharm": {
     "name": "#%%\n"
    }
   }
  }
 ],
 "metadata": {
  "kernelspec": {
   "display_name": "Python 3",
   "language": "python",
   "name": "python3"
  },
  "language_info": {
   "codemirror_mode": {
    "name": "ipython",
    "version": 2
   },
   "file_extension": ".py",
   "mimetype": "text/x-python",
   "name": "python",
   "nbconvert_exporter": "python",
   "pygments_lexer": "ipython2",
   "version": "2.7.6"
  }
 },
 "nbformat": 4,
 "nbformat_minor": 0
}