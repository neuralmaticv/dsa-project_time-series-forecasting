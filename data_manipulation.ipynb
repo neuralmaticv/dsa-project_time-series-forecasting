{
 "cells": [
  {
   "cell_type": "code",
   "execution_count": 1,
   "metadata": {
    "collapsed": true,
    "pycharm": {
     "name": "#%%\n"
    }
   },
   "outputs": [],
   "source": [
    "import pandas as pd"
   ]
  },
  {
   "cell_type": "code",
   "execution_count": 274,
   "outputs": [
    {
     "data": {
      "text/plain": "    Province/State        Country/Region        Lat        Long  1/22/20  \\\n0              NaN           Afghanistan  33.939110   67.709953        0   \n1              NaN               Albania  41.153300   20.168300        0   \n2              NaN               Algeria  28.033900    1.659600        0   \n3              NaN               Andorra  42.506300    1.521800        0   \n4              NaN                Angola -11.202700   17.873900        0   \n..             ...                   ...        ...         ...      ...   \n280            NaN    West Bank and Gaza  31.952200   35.233200        0   \n281            NaN  Winter Olympics 2022  39.904200  116.407400        0   \n282            NaN                 Yemen  15.552727   48.516388        0   \n283            NaN                Zambia -13.133897   27.849332        0   \n284            NaN              Zimbabwe -19.015438   29.154857        0   \n\n     1/23/20  1/24/20  1/25/20  1/26/20  1/27/20  ...  5/11/22  5/12/22  \\\n0          0        0        0        0        0  ...   179131   179169   \n1          0        0        0        0        0  ...   275440   275485   \n2          0        0        0        0        0  ...   265806   265808   \n3          0        0        0        0        0  ...    41717    42156   \n4          0        0        0        0        0  ...    99287    99287   \n..       ...      ...      ...      ...      ...  ...      ...      ...   \n280        0        0        0        0        0  ...   657193   657193   \n281        0        0        0        0        0  ...      535      535   \n282        0        0        0        0        0  ...    11819    11819   \n283        0        0        0        0        0  ...   320303   320412   \n284        0        0        0        0        0  ...   248642   248943   \n\n     5/13/22  5/14/22  5/15/22  5/16/22  5/17/22  5/18/22  5/19/22  5/20/22  \n0     179203   179242   179267   179321   179328   179477   179597   179624  \n1     275534   275574   275615   275621   275688   275732   275732   275732  \n2     265814   265816   265818   265823   265828   265834   265841   265847  \n3      42156    42156    42156    42156    42156    42572    42572    42572  \n4      99287    99287    99287    99287    99287    99287    99287    99287  \n..       ...      ...      ...      ...      ...      ...      ...      ...  \n280   657193   657193   657193   657329   657456   657456   657456   657456  \n281      535      535      535      535      535      535      535      535  \n282    11819    11819    11819    11819    11819    11819    11819    11819  \n283   320481   320591   320627   320680   320680   320680   320945   320945  \n284   249131   249206   249206   249431   249748   250007   250206   250469  \n\n[285 rows x 854 columns]",
      "text/html": "<div>\n<style scoped>\n    .dataframe tbody tr th:only-of-type {\n        vertical-align: middle;\n    }\n\n    .dataframe tbody tr th {\n        vertical-align: top;\n    }\n\n    .dataframe thead th {\n        text-align: right;\n    }\n</style>\n<table border=\"1\" class=\"dataframe\">\n  <thead>\n    <tr style=\"text-align: right;\">\n      <th></th>\n      <th>Province/State</th>\n      <th>Country/Region</th>\n      <th>Lat</th>\n      <th>Long</th>\n      <th>1/22/20</th>\n      <th>1/23/20</th>\n      <th>1/24/20</th>\n      <th>1/25/20</th>\n      <th>1/26/20</th>\n      <th>1/27/20</th>\n      <th>...</th>\n      <th>5/11/22</th>\n      <th>5/12/22</th>\n      <th>5/13/22</th>\n      <th>5/14/22</th>\n      <th>5/15/22</th>\n      <th>5/16/22</th>\n      <th>5/17/22</th>\n      <th>5/18/22</th>\n      <th>5/19/22</th>\n      <th>5/20/22</th>\n    </tr>\n  </thead>\n  <tbody>\n    <tr>\n      <th>0</th>\n      <td>NaN</td>\n      <td>Afghanistan</td>\n      <td>33.939110</td>\n      <td>67.709953</td>\n      <td>0</td>\n      <td>0</td>\n      <td>0</td>\n      <td>0</td>\n      <td>0</td>\n      <td>0</td>\n      <td>...</td>\n      <td>179131</td>\n      <td>179169</td>\n      <td>179203</td>\n      <td>179242</td>\n      <td>179267</td>\n      <td>179321</td>\n      <td>179328</td>\n      <td>179477</td>\n      <td>179597</td>\n      <td>179624</td>\n    </tr>\n    <tr>\n      <th>1</th>\n      <td>NaN</td>\n      <td>Albania</td>\n      <td>41.153300</td>\n      <td>20.168300</td>\n      <td>0</td>\n      <td>0</td>\n      <td>0</td>\n      <td>0</td>\n      <td>0</td>\n      <td>0</td>\n      <td>...</td>\n      <td>275440</td>\n      <td>275485</td>\n      <td>275534</td>\n      <td>275574</td>\n      <td>275615</td>\n      <td>275621</td>\n      <td>275688</td>\n      <td>275732</td>\n      <td>275732</td>\n      <td>275732</td>\n    </tr>\n    <tr>\n      <th>2</th>\n      <td>NaN</td>\n      <td>Algeria</td>\n      <td>28.033900</td>\n      <td>1.659600</td>\n      <td>0</td>\n      <td>0</td>\n      <td>0</td>\n      <td>0</td>\n      <td>0</td>\n      <td>0</td>\n      <td>...</td>\n      <td>265806</td>\n      <td>265808</td>\n      <td>265814</td>\n      <td>265816</td>\n      <td>265818</td>\n      <td>265823</td>\n      <td>265828</td>\n      <td>265834</td>\n      <td>265841</td>\n      <td>265847</td>\n    </tr>\n    <tr>\n      <th>3</th>\n      <td>NaN</td>\n      <td>Andorra</td>\n      <td>42.506300</td>\n      <td>1.521800</td>\n      <td>0</td>\n      <td>0</td>\n      <td>0</td>\n      <td>0</td>\n      <td>0</td>\n      <td>0</td>\n      <td>...</td>\n      <td>41717</td>\n      <td>42156</td>\n      <td>42156</td>\n      <td>42156</td>\n      <td>42156</td>\n      <td>42156</td>\n      <td>42156</td>\n      <td>42572</td>\n      <td>42572</td>\n      <td>42572</td>\n    </tr>\n    <tr>\n      <th>4</th>\n      <td>NaN</td>\n      <td>Angola</td>\n      <td>-11.202700</td>\n      <td>17.873900</td>\n      <td>0</td>\n      <td>0</td>\n      <td>0</td>\n      <td>0</td>\n      <td>0</td>\n      <td>0</td>\n      <td>...</td>\n      <td>99287</td>\n      <td>99287</td>\n      <td>99287</td>\n      <td>99287</td>\n      <td>99287</td>\n      <td>99287</td>\n      <td>99287</td>\n      <td>99287</td>\n      <td>99287</td>\n      <td>99287</td>\n    </tr>\n    <tr>\n      <th>...</th>\n      <td>...</td>\n      <td>...</td>\n      <td>...</td>\n      <td>...</td>\n      <td>...</td>\n      <td>...</td>\n      <td>...</td>\n      <td>...</td>\n      <td>...</td>\n      <td>...</td>\n      <td>...</td>\n      <td>...</td>\n      <td>...</td>\n      <td>...</td>\n      <td>...</td>\n      <td>...</td>\n      <td>...</td>\n      <td>...</td>\n      <td>...</td>\n      <td>...</td>\n      <td>...</td>\n    </tr>\n    <tr>\n      <th>280</th>\n      <td>NaN</td>\n      <td>West Bank and Gaza</td>\n      <td>31.952200</td>\n      <td>35.233200</td>\n      <td>0</td>\n      <td>0</td>\n      <td>0</td>\n      <td>0</td>\n      <td>0</td>\n      <td>0</td>\n      <td>...</td>\n      <td>657193</td>\n      <td>657193</td>\n      <td>657193</td>\n      <td>657193</td>\n      <td>657193</td>\n      <td>657329</td>\n      <td>657456</td>\n      <td>657456</td>\n      <td>657456</td>\n      <td>657456</td>\n    </tr>\n    <tr>\n      <th>281</th>\n      <td>NaN</td>\n      <td>Winter Olympics 2022</td>\n      <td>39.904200</td>\n      <td>116.407400</td>\n      <td>0</td>\n      <td>0</td>\n      <td>0</td>\n      <td>0</td>\n      <td>0</td>\n      <td>0</td>\n      <td>...</td>\n      <td>535</td>\n      <td>535</td>\n      <td>535</td>\n      <td>535</td>\n      <td>535</td>\n      <td>535</td>\n      <td>535</td>\n      <td>535</td>\n      <td>535</td>\n      <td>535</td>\n    </tr>\n    <tr>\n      <th>282</th>\n      <td>NaN</td>\n      <td>Yemen</td>\n      <td>15.552727</td>\n      <td>48.516388</td>\n      <td>0</td>\n      <td>0</td>\n      <td>0</td>\n      <td>0</td>\n      <td>0</td>\n      <td>0</td>\n      <td>...</td>\n      <td>11819</td>\n      <td>11819</td>\n      <td>11819</td>\n      <td>11819</td>\n      <td>11819</td>\n      <td>11819</td>\n      <td>11819</td>\n      <td>11819</td>\n      <td>11819</td>\n      <td>11819</td>\n    </tr>\n    <tr>\n      <th>283</th>\n      <td>NaN</td>\n      <td>Zambia</td>\n      <td>-13.133897</td>\n      <td>27.849332</td>\n      <td>0</td>\n      <td>0</td>\n      <td>0</td>\n      <td>0</td>\n      <td>0</td>\n      <td>0</td>\n      <td>...</td>\n      <td>320303</td>\n      <td>320412</td>\n      <td>320481</td>\n      <td>320591</td>\n      <td>320627</td>\n      <td>320680</td>\n      <td>320680</td>\n      <td>320680</td>\n      <td>320945</td>\n      <td>320945</td>\n    </tr>\n    <tr>\n      <th>284</th>\n      <td>NaN</td>\n      <td>Zimbabwe</td>\n      <td>-19.015438</td>\n      <td>29.154857</td>\n      <td>0</td>\n      <td>0</td>\n      <td>0</td>\n      <td>0</td>\n      <td>0</td>\n      <td>0</td>\n      <td>...</td>\n      <td>248642</td>\n      <td>248943</td>\n      <td>249131</td>\n      <td>249206</td>\n      <td>249206</td>\n      <td>249431</td>\n      <td>249748</td>\n      <td>250007</td>\n      <td>250206</td>\n      <td>250469</td>\n    </tr>\n  </tbody>\n</table>\n<p>285 rows × 854 columns</p>\n</div>"
     },
     "execution_count": 274,
     "metadata": {},
     "output_type": "execute_result"
    }
   ],
   "source": [
    "df = pd.read_csv(\"./data/time_series_covid19_confirmed_global.csv\")\n",
    "df"
   ],
   "metadata": {
    "collapsed": false,
    "pycharm": {
     "name": "#%%\n"
    }
   }
  },
  {
   "cell_type": "code",
   "execution_count": 294,
   "outputs": [
    {
     "data": {
      "text/plain": "                      135\nProvince/State        NaN\nCountry/Region    Germany\nLat             51.165691\nLong            10.451526\n1/22/20                 0\n...                   ...\n5/16/22          25818405\n5/17/22          25890456\n5/18/22          25949175\n5/19/22          25998085\n5/20/22          26040460\n\n[854 rows x 1 columns]",
      "text/html": "<div>\n<style scoped>\n    .dataframe tbody tr th:only-of-type {\n        vertical-align: middle;\n    }\n\n    .dataframe tbody tr th {\n        vertical-align: top;\n    }\n\n    .dataframe thead th {\n        text-align: right;\n    }\n</style>\n<table border=\"1\" class=\"dataframe\">\n  <thead>\n    <tr style=\"text-align: right;\">\n      <th></th>\n      <th>135</th>\n    </tr>\n  </thead>\n  <tbody>\n    <tr>\n      <th>Province/State</th>\n      <td>NaN</td>\n    </tr>\n    <tr>\n      <th>Country/Region</th>\n      <td>Germany</td>\n    </tr>\n    <tr>\n      <th>Lat</th>\n      <td>51.165691</td>\n    </tr>\n    <tr>\n      <th>Long</th>\n      <td>10.451526</td>\n    </tr>\n    <tr>\n      <th>1/22/20</th>\n      <td>0</td>\n    </tr>\n    <tr>\n      <th>...</th>\n      <td>...</td>\n    </tr>\n    <tr>\n      <th>5/16/22</th>\n      <td>25818405</td>\n    </tr>\n    <tr>\n      <th>5/17/22</th>\n      <td>25890456</td>\n    </tr>\n    <tr>\n      <th>5/18/22</th>\n      <td>25949175</td>\n    </tr>\n    <tr>\n      <th>5/19/22</th>\n      <td>25998085</td>\n    </tr>\n    <tr>\n      <th>5/20/22</th>\n      <td>26040460</td>\n    </tr>\n  </tbody>\n</table>\n<p>854 rows × 1 columns</p>\n</div>"
     },
     "execution_count": 294,
     "metadata": {},
     "output_type": "execute_result"
    }
   ],
   "source": [
    "df_location = df.loc[df[\"Country/Region\"] == \"Germany\"]\n",
    "country_iso_alpha2 = \"de\"\n",
    "data_type = \"confirmed_cases\"\n",
    "df_location = df_location.transpose()\n",
    "df_location"
   ],
   "metadata": {
    "collapsed": false,
    "pycharm": {
     "name": "#%%\n"
    }
   }
  },
  {
   "cell_type": "code",
   "execution_count": 295,
   "outputs": [
    {
     "data": {
      "text/plain": "              index        135\n0    Province/State        NaN\n1    Country/Region    Germany\n2               Lat  51.165691\n3              Long  10.451526\n4           1/22/20          0\n..              ...        ...\n849         5/16/22   25818405\n850         5/17/22   25890456\n851         5/18/22   25949175\n852         5/19/22   25998085\n853         5/20/22   26040460\n\n[854 rows x 2 columns]",
      "text/html": "<div>\n<style scoped>\n    .dataframe tbody tr th:only-of-type {\n        vertical-align: middle;\n    }\n\n    .dataframe tbody tr th {\n        vertical-align: top;\n    }\n\n    .dataframe thead th {\n        text-align: right;\n    }\n</style>\n<table border=\"1\" class=\"dataframe\">\n  <thead>\n    <tr style=\"text-align: right;\">\n      <th></th>\n      <th>index</th>\n      <th>135</th>\n    </tr>\n  </thead>\n  <tbody>\n    <tr>\n      <th>0</th>\n      <td>Province/State</td>\n      <td>NaN</td>\n    </tr>\n    <tr>\n      <th>1</th>\n      <td>Country/Region</td>\n      <td>Germany</td>\n    </tr>\n    <tr>\n      <th>2</th>\n      <td>Lat</td>\n      <td>51.165691</td>\n    </tr>\n    <tr>\n      <th>3</th>\n      <td>Long</td>\n      <td>10.451526</td>\n    </tr>\n    <tr>\n      <th>4</th>\n      <td>1/22/20</td>\n      <td>0</td>\n    </tr>\n    <tr>\n      <th>...</th>\n      <td>...</td>\n      <td>...</td>\n    </tr>\n    <tr>\n      <th>849</th>\n      <td>5/16/22</td>\n      <td>25818405</td>\n    </tr>\n    <tr>\n      <th>850</th>\n      <td>5/17/22</td>\n      <td>25890456</td>\n    </tr>\n    <tr>\n      <th>851</th>\n      <td>5/18/22</td>\n      <td>25949175</td>\n    </tr>\n    <tr>\n      <th>852</th>\n      <td>5/19/22</td>\n      <td>25998085</td>\n    </tr>\n    <tr>\n      <th>853</th>\n      <td>5/20/22</td>\n      <td>26040460</td>\n    </tr>\n  </tbody>\n</table>\n<p>854 rows × 2 columns</p>\n</div>"
     },
     "execution_count": 295,
     "metadata": {},
     "output_type": "execute_result"
    }
   ],
   "source": [
    "df_location.reset_index(inplace=True)\n",
    "#df_location.drop(columns=[120, 121, 122, 123, 124, 125, 126, 127, 128, 129,130], inplace=True)\n",
    "df_location"
   ],
   "metadata": {
    "collapsed": false,
    "pycharm": {
     "name": "#%%\n"
    }
   }
  },
  {
   "cell_type": "code",
   "execution_count": 296,
   "outputs": [
    {
     "data": {
      "text/plain": "               ds        135\n0  Province/State        NaN\n1  Country/Region    Germany\n2             Lat  51.165691\n3            Long  10.451526\n4         1/22/20          0",
      "text/html": "<div>\n<style scoped>\n    .dataframe tbody tr th:only-of-type {\n        vertical-align: middle;\n    }\n\n    .dataframe tbody tr th {\n        vertical-align: top;\n    }\n\n    .dataframe thead th {\n        text-align: right;\n    }\n</style>\n<table border=\"1\" class=\"dataframe\">\n  <thead>\n    <tr style=\"text-align: right;\">\n      <th></th>\n      <th>ds</th>\n      <th>135</th>\n    </tr>\n  </thead>\n  <tbody>\n    <tr>\n      <th>0</th>\n      <td>Province/State</td>\n      <td>NaN</td>\n    </tr>\n    <tr>\n      <th>1</th>\n      <td>Country/Region</td>\n      <td>Germany</td>\n    </tr>\n    <tr>\n      <th>2</th>\n      <td>Lat</td>\n      <td>51.165691</td>\n    </tr>\n    <tr>\n      <th>3</th>\n      <td>Long</td>\n      <td>10.451526</td>\n    </tr>\n    <tr>\n      <th>4</th>\n      <td>1/22/20</td>\n      <td>0</td>\n    </tr>\n  </tbody>\n</table>\n</div>"
     },
     "execution_count": 296,
     "metadata": {},
     "output_type": "execute_result"
    }
   ],
   "source": [
    "df_location.rename(columns={'index' : 'ds', 239 : 'y'}, inplace=True)\n",
    "df_location.head()"
   ],
   "metadata": {
    "collapsed": false,
    "pycharm": {
     "name": "#%%\n"
    }
   }
  },
  {
   "cell_type": "code",
   "execution_count": 297,
   "outputs": [
    {
     "name": "stdout",
     "output_type": "stream",
     "text": [
      "<class 'pandas.core.frame.DataFrame'>\n",
      "RangeIndex: 854 entries, 0 to 853\n",
      "Data columns (total 2 columns):\n",
      " #   Column  Non-Null Count  Dtype \n",
      "---  ------  --------------  ----- \n",
      " 0   ds      854 non-null    object\n",
      " 1   135     853 non-null    object\n",
      "dtypes: object(2)\n",
      "memory usage: 13.5+ KB\n"
     ]
    }
   ],
   "source": [
    "df_location.info()"
   ],
   "metadata": {
    "collapsed": false,
    "pycharm": {
     "name": "#%%\n"
    }
   }
  },
  {
   "cell_type": "code",
   "execution_count": 298,
   "outputs": [
    {
     "data": {
      "text/plain": "                 ds        135\n0    Province/State        NaN\n1    Country/Region    Germany\n2               Lat  51.165691\n3              Long  10.451526\n4           1/22/20          0\n..              ...        ...\n849         5/16/22   25818405\n850         5/17/22   25890456\n851         5/18/22   25949175\n852         5/19/22   25998085\n853         5/20/22   26040460\n\n[854 rows x 2 columns]",
      "text/html": "<div>\n<style scoped>\n    .dataframe tbody tr th:only-of-type {\n        vertical-align: middle;\n    }\n\n    .dataframe tbody tr th {\n        vertical-align: top;\n    }\n\n    .dataframe thead th {\n        text-align: right;\n    }\n</style>\n<table border=\"1\" class=\"dataframe\">\n  <thead>\n    <tr style=\"text-align: right;\">\n      <th></th>\n      <th>ds</th>\n      <th>135</th>\n    </tr>\n  </thead>\n  <tbody>\n    <tr>\n      <th>0</th>\n      <td>Province/State</td>\n      <td>NaN</td>\n    </tr>\n    <tr>\n      <th>1</th>\n      <td>Country/Region</td>\n      <td>Germany</td>\n    </tr>\n    <tr>\n      <th>2</th>\n      <td>Lat</td>\n      <td>51.165691</td>\n    </tr>\n    <tr>\n      <th>3</th>\n      <td>Long</td>\n      <td>10.451526</td>\n    </tr>\n    <tr>\n      <th>4</th>\n      <td>1/22/20</td>\n      <td>0</td>\n    </tr>\n    <tr>\n      <th>...</th>\n      <td>...</td>\n      <td>...</td>\n    </tr>\n    <tr>\n      <th>849</th>\n      <td>5/16/22</td>\n      <td>25818405</td>\n    </tr>\n    <tr>\n      <th>850</th>\n      <td>5/17/22</td>\n      <td>25890456</td>\n    </tr>\n    <tr>\n      <th>851</th>\n      <td>5/18/22</td>\n      <td>25949175</td>\n    </tr>\n    <tr>\n      <th>852</th>\n      <td>5/19/22</td>\n      <td>25998085</td>\n    </tr>\n    <tr>\n      <th>853</th>\n      <td>5/20/22</td>\n      <td>26040460</td>\n    </tr>\n  </tbody>\n</table>\n<p>854 rows × 2 columns</p>\n</div>"
     },
     "execution_count": 298,
     "metadata": {},
     "output_type": "execute_result"
    }
   ],
   "source": [
    "df_location"
   ],
   "metadata": {
    "collapsed": false,
    "pycharm": {
     "name": "#%%\n"
    }
   }
  },
  {
   "cell_type": "code",
   "execution_count": 299,
   "outputs": [],
   "source": [
    "df_location.drop(df_location.index[0:4], axis=0, inplace=True)"
   ],
   "metadata": {
    "collapsed": false,
    "pycharm": {
     "name": "#%%\n"
    }
   }
  },
  {
   "cell_type": "code",
   "execution_count": 300,
   "outputs": [],
   "source": [
    "df_location['ds'] = pd.to_datetime(df_location['ds'])"
   ],
   "metadata": {
    "collapsed": false,
    "pycharm": {
     "name": "#%%\n"
    }
   }
  },
  {
   "cell_type": "code",
   "execution_count": 301,
   "outputs": [
    {
     "data": {
      "text/plain": "            ds       135\n4   2020-01-22         0\n5   2020-01-23         0\n6   2020-01-24         0\n7   2020-01-25         0\n8   2020-01-26         0\n..         ...       ...\n849 2022-05-16  25818405\n850 2022-05-17  25890456\n851 2022-05-18  25949175\n852 2022-05-19  25998085\n853 2022-05-20  26040460\n\n[850 rows x 2 columns]",
      "text/html": "<div>\n<style scoped>\n    .dataframe tbody tr th:only-of-type {\n        vertical-align: middle;\n    }\n\n    .dataframe tbody tr th {\n        vertical-align: top;\n    }\n\n    .dataframe thead th {\n        text-align: right;\n    }\n</style>\n<table border=\"1\" class=\"dataframe\">\n  <thead>\n    <tr style=\"text-align: right;\">\n      <th></th>\n      <th>ds</th>\n      <th>135</th>\n    </tr>\n  </thead>\n  <tbody>\n    <tr>\n      <th>4</th>\n      <td>2020-01-22</td>\n      <td>0</td>\n    </tr>\n    <tr>\n      <th>5</th>\n      <td>2020-01-23</td>\n      <td>0</td>\n    </tr>\n    <tr>\n      <th>6</th>\n      <td>2020-01-24</td>\n      <td>0</td>\n    </tr>\n    <tr>\n      <th>7</th>\n      <td>2020-01-25</td>\n      <td>0</td>\n    </tr>\n    <tr>\n      <th>8</th>\n      <td>2020-01-26</td>\n      <td>0</td>\n    </tr>\n    <tr>\n      <th>...</th>\n      <td>...</td>\n      <td>...</td>\n    </tr>\n    <tr>\n      <th>849</th>\n      <td>2022-05-16</td>\n      <td>25818405</td>\n    </tr>\n    <tr>\n      <th>850</th>\n      <td>2022-05-17</td>\n      <td>25890456</td>\n    </tr>\n    <tr>\n      <th>851</th>\n      <td>2022-05-18</td>\n      <td>25949175</td>\n    </tr>\n    <tr>\n      <th>852</th>\n      <td>2022-05-19</td>\n      <td>25998085</td>\n    </tr>\n    <tr>\n      <th>853</th>\n      <td>2022-05-20</td>\n      <td>26040460</td>\n    </tr>\n  </tbody>\n</table>\n<p>850 rows × 2 columns</p>\n</div>"
     },
     "execution_count": 301,
     "metadata": {},
     "output_type": "execute_result"
    }
   ],
   "source": [
    "df_location"
   ],
   "metadata": {
    "collapsed": false,
    "pycharm": {
     "name": "#%%\n"
    }
   }
  },
  {
   "cell_type": "code",
   "execution_count": 302,
   "outputs": [],
   "source": [
    "df_location.to_csv('/home/vladimir/GoogleDrive/Courses/03Third_semester/projects/dsa-project/data/data20_q1/' + country_iso_alpha2 + '_' + data_type + '.csv', index=False)"
   ],
   "metadata": {
    "collapsed": false,
    "pycharm": {
     "name": "#%%\n"
    }
   }
  },
  {
   "cell_type": "code",
   "execution_count": null,
   "outputs": [],
   "source": [],
   "metadata": {
    "collapsed": false,
    "pycharm": {
     "name": "#%%\n"
    }
   }
  },
  {
   "cell_type": "code",
   "execution_count": 103,
   "outputs": [
    {
     "data": {
      "text/plain": "Empty DataFrame\nColumns: [Country]\nIndex: []",
      "text/html": "<div>\n<style scoped>\n    .dataframe tbody tr th:only-of-type {\n        vertical-align: middle;\n    }\n\n    .dataframe tbody tr th {\n        vertical-align: top;\n    }\n\n    .dataframe thead th {\n        text-align: right;\n    }\n</style>\n<table border=\"1\" class=\"dataframe\">\n  <thead>\n    <tr style=\"text-align: right;\">\n      <th></th>\n      <th>Country</th>\n    </tr>\n  </thead>\n  <tbody>\n  </tbody>\n</table>\n</div>"
     },
     "execution_count": 103,
     "metadata": {},
     "output_type": "execute_result"
    }
   ],
   "source": [
    "df = pd.DataFrame(columns=[\"Country\"])\n",
    "df"
   ],
   "metadata": {
    "collapsed": false,
    "pycharm": {
     "name": "#%%\n"
    }
   }
  },
  {
   "cell_type": "code",
   "execution_count": 104,
   "outputs": [],
   "source": [
    "df_confirmed = pd.read_csv(\"data/data20_q1/us_confirmed_cases.csv\")\n",
    "df_recovered = pd.read_csv(\"data/data20_q1/us_recovered_cases.csv\")\n",
    "df_deaths = pd.read_csv(\"data/data20_q1/us_death_cases.csv\")"
   ],
   "metadata": {
    "collapsed": false,
    "pycharm": {
     "name": "#%%\n"
    }
   }
  },
  {
   "cell_type": "code",
   "execution_count": 105,
   "outputs": [
    {
     "data": {
      "text/plain": "       0           1         2           3  4           5        6\n0    NaN  2020-01-22         1  2020-01-22  0  2020-01-22        0\n1    NaN  2020-01-23         1  2020-01-23  0  2020-01-23        0\n2    NaN  2020-01-24         2  2020-01-24  0  2020-01-24        0\n3    NaN  2020-01-25         2  2020-01-25  0  2020-01-25        0\n4    NaN  2020-01-26         5  2020-01-26  0  2020-01-26        0\n..   ...         ...       ...         ... ..         ...      ...\n845  NaN  2022-05-16  82630509  2022-05-16  0  2022-05-16   999979\n846  NaN  2022-05-17  82742996  2022-05-17  0  2022-05-17  1000326\n847  NaN  2022-05-18  82951379  2022-05-18  0  2022-05-18  1001269\n848  NaN  2022-05-19  83060959  2022-05-19  0  2022-05-19  1001606\n849  NaN  2022-05-20  83237592  2022-05-20  0  2022-05-20  1002020\n\n[850 rows x 7 columns]",
      "text/html": "<div>\n<style scoped>\n    .dataframe tbody tr th:only-of-type {\n        vertical-align: middle;\n    }\n\n    .dataframe tbody tr th {\n        vertical-align: top;\n    }\n\n    .dataframe thead th {\n        text-align: right;\n    }\n</style>\n<table border=\"1\" class=\"dataframe\">\n  <thead>\n    <tr style=\"text-align: right;\">\n      <th></th>\n      <th>0</th>\n      <th>1</th>\n      <th>2</th>\n      <th>3</th>\n      <th>4</th>\n      <th>5</th>\n      <th>6</th>\n    </tr>\n  </thead>\n  <tbody>\n    <tr>\n      <th>0</th>\n      <td>NaN</td>\n      <td>2020-01-22</td>\n      <td>1</td>\n      <td>2020-01-22</td>\n      <td>0</td>\n      <td>2020-01-22</td>\n      <td>0</td>\n    </tr>\n    <tr>\n      <th>1</th>\n      <td>NaN</td>\n      <td>2020-01-23</td>\n      <td>1</td>\n      <td>2020-01-23</td>\n      <td>0</td>\n      <td>2020-01-23</td>\n      <td>0</td>\n    </tr>\n    <tr>\n      <th>2</th>\n      <td>NaN</td>\n      <td>2020-01-24</td>\n      <td>2</td>\n      <td>2020-01-24</td>\n      <td>0</td>\n      <td>2020-01-24</td>\n      <td>0</td>\n    </tr>\n    <tr>\n      <th>3</th>\n      <td>NaN</td>\n      <td>2020-01-25</td>\n      <td>2</td>\n      <td>2020-01-25</td>\n      <td>0</td>\n      <td>2020-01-25</td>\n      <td>0</td>\n    </tr>\n    <tr>\n      <th>4</th>\n      <td>NaN</td>\n      <td>2020-01-26</td>\n      <td>5</td>\n      <td>2020-01-26</td>\n      <td>0</td>\n      <td>2020-01-26</td>\n      <td>0</td>\n    </tr>\n    <tr>\n      <th>...</th>\n      <td>...</td>\n      <td>...</td>\n      <td>...</td>\n      <td>...</td>\n      <td>...</td>\n      <td>...</td>\n      <td>...</td>\n    </tr>\n    <tr>\n      <th>845</th>\n      <td>NaN</td>\n      <td>2022-05-16</td>\n      <td>82630509</td>\n      <td>2022-05-16</td>\n      <td>0</td>\n      <td>2022-05-16</td>\n      <td>999979</td>\n    </tr>\n    <tr>\n      <th>846</th>\n      <td>NaN</td>\n      <td>2022-05-17</td>\n      <td>82742996</td>\n      <td>2022-05-17</td>\n      <td>0</td>\n      <td>2022-05-17</td>\n      <td>1000326</td>\n    </tr>\n    <tr>\n      <th>847</th>\n      <td>NaN</td>\n      <td>2022-05-18</td>\n      <td>82951379</td>\n      <td>2022-05-18</td>\n      <td>0</td>\n      <td>2022-05-18</td>\n      <td>1001269</td>\n    </tr>\n    <tr>\n      <th>848</th>\n      <td>NaN</td>\n      <td>2022-05-19</td>\n      <td>83060959</td>\n      <td>2022-05-19</td>\n      <td>0</td>\n      <td>2022-05-19</td>\n      <td>1001606</td>\n    </tr>\n    <tr>\n      <th>849</th>\n      <td>NaN</td>\n      <td>2022-05-20</td>\n      <td>83237592</td>\n      <td>2022-05-20</td>\n      <td>0</td>\n      <td>2022-05-20</td>\n      <td>1002020</td>\n    </tr>\n  </tbody>\n</table>\n<p>850 rows × 7 columns</p>\n</div>"
     },
     "execution_count": 105,
     "metadata": {},
     "output_type": "execute_result"
    }
   ],
   "source": [
    "df = pd.concat([df, df_confirmed, df_recovered, df_deaths], axis=1, ignore_index=True)\n",
    "df"
   ],
   "metadata": {
    "collapsed": false,
    "pycharm": {
     "name": "#%%\n"
    }
   }
  },
  {
   "cell_type": "code",
   "execution_count": 106,
   "outputs": [
    {
     "data": {
      "text/plain": "       0           1         2  4        6\n0    NaN  2020-01-22         1  0        0\n1    NaN  2020-01-23         1  0        0\n2    NaN  2020-01-24         2  0        0\n3    NaN  2020-01-25         2  0        0\n4    NaN  2020-01-26         5  0        0\n..   ...         ...       ... ..      ...\n845  NaN  2022-05-16  82630509  0   999979\n846  NaN  2022-05-17  82742996  0  1000326\n847  NaN  2022-05-18  82951379  0  1001269\n848  NaN  2022-05-19  83060959  0  1001606\n849  NaN  2022-05-20  83237592  0  1002020\n\n[850 rows x 5 columns]",
      "text/html": "<div>\n<style scoped>\n    .dataframe tbody tr th:only-of-type {\n        vertical-align: middle;\n    }\n\n    .dataframe tbody tr th {\n        vertical-align: top;\n    }\n\n    .dataframe thead th {\n        text-align: right;\n    }\n</style>\n<table border=\"1\" class=\"dataframe\">\n  <thead>\n    <tr style=\"text-align: right;\">\n      <th></th>\n      <th>0</th>\n      <th>1</th>\n      <th>2</th>\n      <th>4</th>\n      <th>6</th>\n    </tr>\n  </thead>\n  <tbody>\n    <tr>\n      <th>0</th>\n      <td>NaN</td>\n      <td>2020-01-22</td>\n      <td>1</td>\n      <td>0</td>\n      <td>0</td>\n    </tr>\n    <tr>\n      <th>1</th>\n      <td>NaN</td>\n      <td>2020-01-23</td>\n      <td>1</td>\n      <td>0</td>\n      <td>0</td>\n    </tr>\n    <tr>\n      <th>2</th>\n      <td>NaN</td>\n      <td>2020-01-24</td>\n      <td>2</td>\n      <td>0</td>\n      <td>0</td>\n    </tr>\n    <tr>\n      <th>3</th>\n      <td>NaN</td>\n      <td>2020-01-25</td>\n      <td>2</td>\n      <td>0</td>\n      <td>0</td>\n    </tr>\n    <tr>\n      <th>4</th>\n      <td>NaN</td>\n      <td>2020-01-26</td>\n      <td>5</td>\n      <td>0</td>\n      <td>0</td>\n    </tr>\n    <tr>\n      <th>...</th>\n      <td>...</td>\n      <td>...</td>\n      <td>...</td>\n      <td>...</td>\n      <td>...</td>\n    </tr>\n    <tr>\n      <th>845</th>\n      <td>NaN</td>\n      <td>2022-05-16</td>\n      <td>82630509</td>\n      <td>0</td>\n      <td>999979</td>\n    </tr>\n    <tr>\n      <th>846</th>\n      <td>NaN</td>\n      <td>2022-05-17</td>\n      <td>82742996</td>\n      <td>0</td>\n      <td>1000326</td>\n    </tr>\n    <tr>\n      <th>847</th>\n      <td>NaN</td>\n      <td>2022-05-18</td>\n      <td>82951379</td>\n      <td>0</td>\n      <td>1001269</td>\n    </tr>\n    <tr>\n      <th>848</th>\n      <td>NaN</td>\n      <td>2022-05-19</td>\n      <td>83060959</td>\n      <td>0</td>\n      <td>1001606</td>\n    </tr>\n    <tr>\n      <th>849</th>\n      <td>NaN</td>\n      <td>2022-05-20</td>\n      <td>83237592</td>\n      <td>0</td>\n      <td>1002020</td>\n    </tr>\n  </tbody>\n</table>\n<p>850 rows × 5 columns</p>\n</div>"
     },
     "execution_count": 106,
     "metadata": {},
     "output_type": "execute_result"
    }
   ],
   "source": [
    "df.drop(df.columns[[3, 5]], axis=1, inplace=True)\n",
    "df"
   ],
   "metadata": {
    "collapsed": false,
    "pycharm": {
     "name": "#%%\n"
    }
   }
  },
  {
   "cell_type": "code",
   "execution_count": 107,
   "outputs": [
    {
     "data": {
      "text/plain": "           Country        Date  Confirmed  Recovered   Deaths\n0    United States  2020-01-22          1          0        0\n1    United States  2020-01-23          1          0        0\n2    United States  2020-01-24          2          0        0\n3    United States  2020-01-25          2          0        0\n4    United States  2020-01-26          5          0        0\n..             ...         ...        ...        ...      ...\n845  United States  2022-05-16   82630509          0   999979\n846  United States  2022-05-17   82742996          0  1000326\n847  United States  2022-05-18   82951379          0  1001269\n848  United States  2022-05-19   83060959          0  1001606\n849  United States  2022-05-20   83237592          0  1002020\n\n[850 rows x 5 columns]",
      "text/html": "<div>\n<style scoped>\n    .dataframe tbody tr th:only-of-type {\n        vertical-align: middle;\n    }\n\n    .dataframe tbody tr th {\n        vertical-align: top;\n    }\n\n    .dataframe thead th {\n        text-align: right;\n    }\n</style>\n<table border=\"1\" class=\"dataframe\">\n  <thead>\n    <tr style=\"text-align: right;\">\n      <th></th>\n      <th>Country</th>\n      <th>Date</th>\n      <th>Confirmed</th>\n      <th>Recovered</th>\n      <th>Deaths</th>\n    </tr>\n  </thead>\n  <tbody>\n    <tr>\n      <th>0</th>\n      <td>United States</td>\n      <td>2020-01-22</td>\n      <td>1</td>\n      <td>0</td>\n      <td>0</td>\n    </tr>\n    <tr>\n      <th>1</th>\n      <td>United States</td>\n      <td>2020-01-23</td>\n      <td>1</td>\n      <td>0</td>\n      <td>0</td>\n    </tr>\n    <tr>\n      <th>2</th>\n      <td>United States</td>\n      <td>2020-01-24</td>\n      <td>2</td>\n      <td>0</td>\n      <td>0</td>\n    </tr>\n    <tr>\n      <th>3</th>\n      <td>United States</td>\n      <td>2020-01-25</td>\n      <td>2</td>\n      <td>0</td>\n      <td>0</td>\n    </tr>\n    <tr>\n      <th>4</th>\n      <td>United States</td>\n      <td>2020-01-26</td>\n      <td>5</td>\n      <td>0</td>\n      <td>0</td>\n    </tr>\n    <tr>\n      <th>...</th>\n      <td>...</td>\n      <td>...</td>\n      <td>...</td>\n      <td>...</td>\n      <td>...</td>\n    </tr>\n    <tr>\n      <th>845</th>\n      <td>United States</td>\n      <td>2022-05-16</td>\n      <td>82630509</td>\n      <td>0</td>\n      <td>999979</td>\n    </tr>\n    <tr>\n      <th>846</th>\n      <td>United States</td>\n      <td>2022-05-17</td>\n      <td>82742996</td>\n      <td>0</td>\n      <td>1000326</td>\n    </tr>\n    <tr>\n      <th>847</th>\n      <td>United States</td>\n      <td>2022-05-18</td>\n      <td>82951379</td>\n      <td>0</td>\n      <td>1001269</td>\n    </tr>\n    <tr>\n      <th>848</th>\n      <td>United States</td>\n      <td>2022-05-19</td>\n      <td>83060959</td>\n      <td>0</td>\n      <td>1001606</td>\n    </tr>\n    <tr>\n      <th>849</th>\n      <td>United States</td>\n      <td>2022-05-20</td>\n      <td>83237592</td>\n      <td>0</td>\n      <td>1002020</td>\n    </tr>\n  </tbody>\n</table>\n<p>850 rows × 5 columns</p>\n</div>"
     },
     "execution_count": 107,
     "metadata": {},
     "output_type": "execute_result"
    }
   ],
   "source": [
    "df.columns = [\"Country\", \"Date\", \"Confirmed\", \"Recovered\", \"Deaths\"]\n",
    "df[\"Country\"] = \"United States\"\n",
    "df"
   ],
   "metadata": {
    "collapsed": false,
    "pycharm": {
     "name": "#%%\n"
    }
   }
  },
  {
   "cell_type": "code",
   "execution_count": 108,
   "outputs": [],
   "source": [
    "df.to_csv('/home/vladimir/GoogleDrive/Courses/03Third_semester/projects/dsa-project/data/data20_q1/' 'us_data.csv', index=False)"
   ],
   "metadata": {
    "collapsed": false,
    "pycharm": {
     "name": "#%%\n"
    }
   }
  },
  {
   "cell_type": "code",
   "execution_count": null,
   "outputs": [],
   "source": [],
   "metadata": {
    "collapsed": false,
    "pycharm": {
     "name": "#%%\n"
    }
   }
  },
  {
   "cell_type": "code",
   "execution_count": 115,
   "outputs": [],
   "source": [
    "df_de = pd.read_csv(\"data/data20_q1/de_data.csv\")\n",
    "df_es = pd.read_csv(\"data/data20_q1/es_data.csv\")\n",
    "df_fr = pd.read_csv(\"data/data20_q1/fr_data.csv\")\n",
    "df_in = pd.read_csv(\"data/data20_q1/in_data.csv\")\n",
    "df_it = pd.read_csv(\"data/data20_q1/it_data.csv\")\n",
    "df_ru = pd.read_csv(\"data/data20_q1/ru_data.csv\")\n",
    "df_tr = pd.read_csv(\"data/data20_q1/tr_data.csv\")\n",
    "df_us = pd.read_csv(\"data/data20_q1/us_data.csv\")"
   ],
   "metadata": {
    "collapsed": false,
    "pycharm": {
     "name": "#%%\n"
    }
   }
  },
  {
   "cell_type": "code",
   "execution_count": 116,
   "outputs": [
    {
     "data": {
      "text/plain": "            Country        Date  Confirmed  Recovered   Deaths\n0           Germany  2020-01-22          0          0        0\n1           Germany  2020-01-23          0          0        0\n2           Germany  2020-01-24          0          0        0\n3           Germany  2020-01-25          0          0        0\n4           Germany  2020-01-26          0          0        0\n...             ...         ...        ...        ...      ...\n6795  United States  2022-05-16   82630509          0   999979\n6796  United States  2022-05-17   82742996          0  1000326\n6797  United States  2022-05-18   82951379          0  1001269\n6798  United States  2022-05-19   83060959          0  1001606\n6799  United States  2022-05-20   83237592          0  1002020\n\n[6800 rows x 5 columns]",
      "text/html": "<div>\n<style scoped>\n    .dataframe tbody tr th:only-of-type {\n        vertical-align: middle;\n    }\n\n    .dataframe tbody tr th {\n        vertical-align: top;\n    }\n\n    .dataframe thead th {\n        text-align: right;\n    }\n</style>\n<table border=\"1\" class=\"dataframe\">\n  <thead>\n    <tr style=\"text-align: right;\">\n      <th></th>\n      <th>Country</th>\n      <th>Date</th>\n      <th>Confirmed</th>\n      <th>Recovered</th>\n      <th>Deaths</th>\n    </tr>\n  </thead>\n  <tbody>\n    <tr>\n      <th>0</th>\n      <td>Germany</td>\n      <td>2020-01-22</td>\n      <td>0</td>\n      <td>0</td>\n      <td>0</td>\n    </tr>\n    <tr>\n      <th>1</th>\n      <td>Germany</td>\n      <td>2020-01-23</td>\n      <td>0</td>\n      <td>0</td>\n      <td>0</td>\n    </tr>\n    <tr>\n      <th>2</th>\n      <td>Germany</td>\n      <td>2020-01-24</td>\n      <td>0</td>\n      <td>0</td>\n      <td>0</td>\n    </tr>\n    <tr>\n      <th>3</th>\n      <td>Germany</td>\n      <td>2020-01-25</td>\n      <td>0</td>\n      <td>0</td>\n      <td>0</td>\n    </tr>\n    <tr>\n      <th>4</th>\n      <td>Germany</td>\n      <td>2020-01-26</td>\n      <td>0</td>\n      <td>0</td>\n      <td>0</td>\n    </tr>\n    <tr>\n      <th>...</th>\n      <td>...</td>\n      <td>...</td>\n      <td>...</td>\n      <td>...</td>\n      <td>...</td>\n    </tr>\n    <tr>\n      <th>6795</th>\n      <td>United States</td>\n      <td>2022-05-16</td>\n      <td>82630509</td>\n      <td>0</td>\n      <td>999979</td>\n    </tr>\n    <tr>\n      <th>6796</th>\n      <td>United States</td>\n      <td>2022-05-17</td>\n      <td>82742996</td>\n      <td>0</td>\n      <td>1000326</td>\n    </tr>\n    <tr>\n      <th>6797</th>\n      <td>United States</td>\n      <td>2022-05-18</td>\n      <td>82951379</td>\n      <td>0</td>\n      <td>1001269</td>\n    </tr>\n    <tr>\n      <th>6798</th>\n      <td>United States</td>\n      <td>2022-05-19</td>\n      <td>83060959</td>\n      <td>0</td>\n      <td>1001606</td>\n    </tr>\n    <tr>\n      <th>6799</th>\n      <td>United States</td>\n      <td>2022-05-20</td>\n      <td>83237592</td>\n      <td>0</td>\n      <td>1002020</td>\n    </tr>\n  </tbody>\n</table>\n<p>6800 rows × 5 columns</p>\n</div>"
     },
     "execution_count": 116,
     "metadata": {},
     "output_type": "execute_result"
    }
   ],
   "source": [
    "df = pd.concat([df_de, df_es, df_fr, df_in, df_it, df_ru, df_tr, df_us], ignore_index=True)\n",
    "df"
   ],
   "metadata": {
    "collapsed": false,
    "pycharm": {
     "name": "#%%\n"
    }
   }
  },
  {
   "cell_type": "code",
   "execution_count": 117,
   "outputs": [],
   "source": [
    "df.to_csv('/home/vladimir/GoogleDrive/Courses/03Third_semester/projects/dsa-project/data/data20_q1/' 'data.csv', index=False)"
   ],
   "metadata": {
    "collapsed": false,
    "pycharm": {
     "name": "#%%\n"
    }
   }
  }
 ],
 "metadata": {
  "kernelspec": {
   "display_name": "Python 3",
   "language": "python",
   "name": "python3"
  },
  "language_info": {
   "codemirror_mode": {
    "name": "ipython",
    "version": 2
   },
   "file_extension": ".py",
   "mimetype": "text/x-python",
   "name": "python",
   "nbconvert_exporter": "python",
   "pygments_lexer": "ipython2",
   "version": "2.7.6"
  }
 },
 "nbformat": 4,
 "nbformat_minor": 0
}